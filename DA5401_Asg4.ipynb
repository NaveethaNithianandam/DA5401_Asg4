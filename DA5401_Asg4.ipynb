{
  "nbformat": 4,
  "nbformat_minor": 0,
  "metadata": {
    "colab": {
      "provenance": []
    },
    "kernelspec": {
      "name": "python3",
      "display_name": "Python 3"
    },
    "language_info": {
      "name": "python"
    }
  },
  "cells": [
    {
      "cell_type": "markdown",
      "source": [
        "# **Part A: Data Exploration and Baseline Model**"
      ],
      "metadata": {
        "id": "8iuTsXyu9uy8"
      }
    },
    {
      "cell_type": "markdown",
      "source": [
        "**STEP 1 : Load and Analyze the Dataset**"
      ],
      "metadata": {
        "id": "hkiPlK_09zRw"
      }
    },
    {
      "cell_type": "code",
      "execution_count": 1,
      "metadata": {
        "colab": {
          "base_uri": "https://localhost:8080/"
        },
        "id": "GfuSRllv85FC",
        "outputId": "585292b8-9ab7-458c-febe-5411c7214d62"
      },
      "outputs": [
        {
          "output_type": "stream",
          "name": "stdout",
          "text": [
            "Mounted at /content/drive\n",
            "   Time        V1        V2        V3        V4        V5        V6        V7  \\\n",
            "0   0.0 -1.359807 -0.072781  2.536347  1.378155 -0.338321  0.462388  0.239599   \n",
            "1   0.0  1.191857  0.266151  0.166480  0.448154  0.060018 -0.082361 -0.078803   \n",
            "2   1.0 -1.358354 -1.340163  1.773209  0.379780 -0.503198  1.800499  0.791461   \n",
            "3   1.0 -0.966272 -0.185226  1.792993 -0.863291 -0.010309  1.247203  0.237609   \n",
            "4   2.0 -1.158233  0.877737  1.548718  0.403034 -0.407193  0.095921  0.592941   \n",
            "\n",
            "         V8        V9  ...       V21       V22       V23       V24       V25  \\\n",
            "0  0.098698  0.363787  ... -0.018307  0.277838 -0.110474  0.066928  0.128539   \n",
            "1  0.085102 -0.255425  ... -0.225775 -0.638672  0.101288 -0.339846  0.167170   \n",
            "2  0.247676 -1.514654  ...  0.247998  0.771679  0.909412 -0.689281 -0.327642   \n",
            "3  0.377436 -1.387024  ... -0.108300  0.005274 -0.190321 -1.175575  0.647376   \n",
            "4 -0.270533  0.817739  ... -0.009431  0.798278 -0.137458  0.141267 -0.206010   \n",
            "\n",
            "        V26       V27       V28  Amount  Class  \n",
            "0 -0.189115  0.133558 -0.021053  149.62      0  \n",
            "1  0.125895 -0.008983  0.014724    2.69      0  \n",
            "2 -0.139097 -0.055353 -0.059752  378.66      0  \n",
            "3 -0.221929  0.062723  0.061458  123.50      0  \n",
            "4  0.502292  0.219422  0.215153   69.99      0  \n",
            "\n",
            "[5 rows x 31 columns]\n",
            "<class 'pandas.core.frame.DataFrame'>\n",
            "RangeIndex: 284807 entries, 0 to 284806\n",
            "Data columns (total 31 columns):\n",
            " #   Column  Non-Null Count   Dtype  \n",
            "---  ------  --------------   -----  \n",
            " 0   Time    284807 non-null  float64\n",
            " 1   V1      284807 non-null  float64\n",
            " 2   V2      284807 non-null  float64\n",
            " 3   V3      284807 non-null  float64\n",
            " 4   V4      284807 non-null  float64\n",
            " 5   V5      284807 non-null  float64\n",
            " 6   V6      284807 non-null  float64\n",
            " 7   V7      284807 non-null  float64\n",
            " 8   V8      284807 non-null  float64\n",
            " 9   V9      284807 non-null  float64\n",
            " 10  V10     284807 non-null  float64\n",
            " 11  V11     284807 non-null  float64\n",
            " 12  V12     284807 non-null  float64\n",
            " 13  V13     284807 non-null  float64\n",
            " 14  V14     284807 non-null  float64\n",
            " 15  V15     284807 non-null  float64\n",
            " 16  V16     284807 non-null  float64\n",
            " 17  V17     284807 non-null  float64\n",
            " 18  V18     284807 non-null  float64\n",
            " 19  V19     284807 non-null  float64\n",
            " 20  V20     284807 non-null  float64\n",
            " 21  V21     284807 non-null  float64\n",
            " 22  V22     284807 non-null  float64\n",
            " 23  V23     284807 non-null  float64\n",
            " 24  V24     284807 non-null  float64\n",
            " 25  V25     284807 non-null  float64\n",
            " 26  V26     284807 non-null  float64\n",
            " 27  V27     284807 non-null  float64\n",
            " 28  V28     284807 non-null  float64\n",
            " 29  Amount  284807 non-null  float64\n",
            " 30  Class   284807 non-null  int64  \n",
            "dtypes: float64(30), int64(1)\n",
            "memory usage: 67.4 MB\n",
            "None\n"
          ]
        }
      ],
      "source": [
        "\n",
        "import pandas as pd\n",
        "import numpy as np\n",
        "import matplotlib.pyplot as plt\n",
        "import seaborn as sns\n",
        "\n",
        "from sklearn.model_selection import train_test_split\n",
        "from sklearn.linear_model import LogisticRegression\n",
        "from sklearn.metrics import classification_report, confusion_matrix\n",
        "\n",
        "from imblearn.over_sampling import SMOTE\n",
        "from imblearn.under_sampling import ClusterCentroids\n",
        "from sklearn.cluster import KMeans\n",
        "from sklearn.utils import resample\n",
        "\n",
        "from google.colab import drive\n",
        "drive.mount('/content/drive')\n",
        "\n",
        "data = pd.read_csv(\"/content/drive/MyDrive/creditcard.csv\")\n",
        "print(data.head())\n",
        "print(data.info())\n"
      ]
    },
    {
      "cell_type": "markdown",
      "source": [
        "**STEP 2 : Analyze Class Distribution**"
      ],
      "metadata": {
        "id": "etY9gx5n948z"
      }
    },
    {
      "cell_type": "code",
      "source": [
        "class_counts = data['Class'].value_counts()\n",
        "print(\"Class distribution:\\n\", class_counts)\n",
        "\n",
        "plt.figure(figsize=(6,4))\n",
        "sns.barplot(x=class_counts.index, y=class_counts.values, palette=\"Set2\")\n",
        "plt.title(\"Class Distribution (0 = Non-Fraud, 1 = Fraud)\")\n",
        "plt.ylabel(\"Count\")\n",
        "plt.show()\n",
        "\n",
        "plt.figure(figsize=(6,6))\n",
        "plt.pie(class_counts, labels=class_counts.index, autopct='%1.2f%%',\n",
        "        startangle=90, colors=[\"skyblue\",\"salmon\"], explode=(0,0.1))\n",
        "plt.title(\"Class Distribution Pie Chart\")\n",
        "plt.show()\n"
      ],
      "metadata": {
        "colab": {
          "base_uri": "https://localhost:8080/",
          "height": 1000
        },
        "id": "J_GyaMKv9ZCD",
        "outputId": "26da7391-9745-407c-bcb1-a3a72d6ba4b7"
      },
      "execution_count": 2,
      "outputs": [
        {
          "output_type": "stream",
          "name": "stdout",
          "text": [
            "Class distribution:\n",
            " Class\n",
            "0    284315\n",
            "1       492\n",
            "Name: count, dtype: int64\n"
          ]
        },
        {
          "output_type": "stream",
          "name": "stderr",
          "text": [
            "/tmp/ipython-input-1156522881.py:5: FutureWarning: \n",
            "\n",
            "Passing `palette` without assigning `hue` is deprecated and will be removed in v0.14.0. Assign the `x` variable to `hue` and set `legend=False` for the same effect.\n",
            "\n",
            "  sns.barplot(x=class_counts.index, y=class_counts.values, palette=\"Set2\")\n"
          ]
        },
        {
          "output_type": "display_data",
          "data": {
            "text/plain": [
              "<Figure size 600x400 with 1 Axes>"
            ],
            "image/png": "[encoded data removed]"
          },
          "metadata": {}
        },
        {
          "output_type": "display_data",
          "data": {
            "text/plain": [
              "<Figure size 600x600 with 1 Axes>"
            ],
            "image/png": "[encoded data removed]"
          },
          "metadata": {}
        }
      ]
    },
    {
      "cell_type": "markdown",
      "source": [
        "**STEP 3 : Baseline Model (Model 1)**"
      ],
      "metadata": {
        "id": "yZW6D7fe99sL"
      }
    },
    {
      "cell_type": "code",
      "source": [
        "X = data.drop('Class', axis=1)\n",
        "y = data['Class']\n",
        "\n",
        "X_train, X_test, y_train, y_test = train_test_split(\n",
        "    X, y, test_size=0.3, stratify=y, random_state=42\n",
        ")\n",
        "\n",
        "log_reg = LogisticRegression(max_iter=1000)\n",
        "log_reg.fit(X_train, y_train)\n",
        "y_pred = log_reg.predict(X_test)\n",
        "\n",
        "print(\"\\n=== Baseline Model Report ===\")\n",
        "print(classification_report(y_test, y_pred, digits=4))"
      ],
      "metadata": {
        "colab": {
          "base_uri": "https://localhost:8080/"
        },
        "id": "MrhmebPS9iPH",
        "outputId": "10c91869-d449-431c-fe59-8c40de3c1312"
      },
      "execution_count": 3,
      "outputs": [
        {
          "output_type": "stream",
          "name": "stdout",
          "text": [
            "\n",
            "=== Baseline Model Report ===\n",
            "              precision    recall  f1-score   support\n",
            "\n",
            "           0     0.9994    0.9998    0.9996     85295\n",
            "           1     0.8362    0.6554    0.7348       148\n",
            "\n",
            "    accuracy                         0.9992     85443\n",
            "   macro avg     0.9178    0.8276    0.8672     85443\n",
            "weighted avg     0.9991    0.9992    0.9991     85443\n",
            "\n"
          ]
        },
        {
          "output_type": "stream",
          "name": "stderr",
          "text": [
            "/usr/local/lib/python3.12/dist-packages/sklearn/linear_model/_logistic.py:465: ConvergenceWarning: lbfgs failed to converge (status=1):\n",
            "STOP: TOTAL NO. OF ITERATIONS REACHED LIMIT.\n",
            "\n",
            "Increase the number of iterations (max_iter) or scale the data as shown in:\n",
            "    https://scikit-learn.org/stable/modules/preprocessing.html\n",
            "Please also refer to the documentation for alternative solver options:\n",
            "    https://scikit-learn.org/stable/modules/linear_model.html#logistic-regression\n",
            "  n_iter_i = _check_optimize_result(\n"
          ]
        }
      ]
    },
    {
      "cell_type": "markdown",
      "source": [
        "### Why Accuracy is Misleading in Imbalanced Datasets\n",
        "\n",
        "In our baseline model, we achieved an accuracy of **99.92%**. At first glance, this seems excellent.  \n",
        "However, accuracy is **not a reliable metric** when the dataset is highly imbalanced, as in our case:\n",
        "\n",
        "- **Class 0 (Non-Fraud):** 284,315 transactions (~99.83%)  \n",
        "- **Class 1 (Fraud):** 492 transactions (~0.17%)  \n",
        "\n",
        "This means that if a classifier simply predicts *every transaction as non-fraud*, it would already achieve almost **99.83% accuracy**, without ever detecting a single fraud.  \n",
        "\n",
        "Therefore, high accuracy does not mean the model is good at fraud detection.\n",
        "\n",
        "---\n",
        "\n",
        "### Why Precision, Recall, and F1-Score are Better?\n",
        "\n",
        "- **Precision (Fraud class = 83.6%)**:  \n",
        "  Out of all the transactions the model flagged as fraud, ~16% were false alarms.  \n",
        "  High precision means fewer false positives.  \n",
        "\n",
        "- **Recall (Fraud class = 65.5%)**:  \n",
        "  The model detected only about two-thirds of actual fraud cases.  \n",
        "  This is critical because missing a fraud case (false negative) can be very costly.  \n",
        "\n",
        "- **F1-Score (Fraud class = 73.5%)**:  \n",
        "  This metric combines precision and recall into a single score.  \n",
        "  It is especially useful in imbalanced datasets since it balances both types of errors.\n",
        "\n",
        "---\n",
        "\n",
        "### Conclusion\n",
        "\n",
        "- Accuracy **overestimates performance** in imbalanced datasets.  \n",
        "- Precision, Recall, and F1-score give a **much clearer picture** of how well the model is detecting fraud.  \n",
        "- Our baseline model still misses a significant portion of fraudulent transactions, which justifies the need for **resampling techniques (SMOTE, CBO, CBU)** to improve fraud detection.\n"
      ],
      "metadata": {
        "id": "MGJial0L-HNo"
      }
    },
    {
      "cell_type": "markdown",
      "source": [
        "# **Part B: Theoretical Foundation**\n"
      ],
      "metadata": {
        "id": "kR07WT6PAJyh"
      }
    },
    {
      "cell_type": "markdown",
      "source": [
        "**STEP 1 : Theoretical Foundation**\n",
        "### GMM vs. SMOTE\n",
        "\n",
        "- **SMOTE (Synthetic Minority Over-sampling Technique):**\n",
        "  - Works by linearly interpolating between existing minority samples and their nearest neighbors.  \n",
        "  - This creates synthetic points along straight lines in the feature space.  \n",
        "  - Assumes the minority class distribution is relatively simple and continuous.  \n",
        "  - Limitation: It may generate unrealistic samples when the data has complex, multimodal distributions or when minority samples lie close to majority regions.\n",
        "\n",
        "- **GMM (Gaussian Mixture Model)-based Synthetic Sampling:**\n",
        "  - Models the minority class as a **mixture of multiple Gaussian distributions**.  \n",
        "  - Each Gaussian captures a local cluster or subgroup within the minority data.  \n",
        "  - New synthetic samples are generated by sampling from these Gaussian components.  \n",
        "  - This allows capturing **non-linear, multimodal, and complex structures** of the minority distribution.\n",
        "\n",
        "---\n",
        "\n",
        "### Why GMM is Theoretically Better\n",
        "\n",
        "- Minority classes in real-world problems (like fraud detection) are rarely uniform; they often consist of **multiple sub-populations** (e.g., different fraud strategies).  \n",
        "- GMM explicitly estimates the **probability distribution** of the minority data, unlike SMOTE which only interpolates locally.  \n",
        "- By choosing the optimal number of mixture components (using AIC/BIC), GMM adapts to the **true underlying data structure**.  \n",
        "- This results in synthetic samples that are more **realistic, diverse, and representative** of the minority class.  \n",
        "- Ultimately, GMM reduces the risk of generating overlapping or noisy samples, leading to better generalization for classifiers.\n",
        "\n",
        "---\n"
      ],
      "metadata": {
        "id": "rt4JDtYTAD3i"
      }
    },
    {
      "cell_type": "markdown",
      "source": [
        "**STEP 2 : GMM Implementation**"
      ],
      "metadata": {
        "id": "5J8nitAwClfB"
      }
    },
    {
      "cell_type": "code",
      "source": [
        "from sklearn.mixture import GaussianMixture\n",
        "import matplotlib.pyplot as plt\n",
        "import numpy as np\n",
        "\n",
        "X_minority = X_train[y_train == 1]\n",
        "print(\"Minority class shape:\", X_minority.shape)\n",
        "\n",
        "n_components = range(1, 11)\n",
        "aics = []\n",
        "bics = []\n",
        "\n",
        "for k in n_components:\n",
        "    gmm = GaussianMixture(n_components=k, random_state=42)\n",
        "    gmm.fit(X_minority)\n",
        "    aics.append(gmm.aic(X_minority))\n",
        "    bics.append(gmm.bic(X_minority))\n",
        "\n",
        "plt.figure(figsize=(6,4))\n",
        "plt.plot(n_components, aics, marker='o', label='AIC')\n",
        "plt.plot(n_components, bics, marker='s', label='BIC')\n",
        "plt.xlabel(\"Number of Components (k)\")\n",
        "plt.ylabel(\"Score\")\n",
        "plt.title(\"Choosing Optimal Number of GMM Components\")\n",
        "plt.legend()\n",
        "plt.show()\n",
        "\n",
        "optimal_k = n_components[np.argmin(bics)]\n",
        "print(\"Optimal number of components (k):\", optimal_k)\n",
        "\n",
        "gmm_final = GaussianMixture(n_components=optimal_k, random_state=42)\n",
        "gmm_final.fit(X_minority)\n"
      ],
      "metadata": {
        "colab": {
          "base_uri": "https://localhost:8080/",
          "height": 509
        },
        "id": "AhdVYM9_9l8m",
        "outputId": "40528511-3bfc-4510-c984-a85ece404dde"
      },
      "execution_count": 4,
      "outputs": [
        {
          "output_type": "stream",
          "name": "stdout",
          "text": [
            "Minority class shape: (344, 30)\n"
          ]
        },
        {
          "output_type": "display_data",
          "data": {
            "text/plain": [
              "<Figure size 600x400 with 1 Axes>"
            ],
            "image/png": "[encoded data removed]"
          },
          "metadata": {}
        },
        {
          "output_type": "stream",
          "name": "stdout",
          "text": [
            "Optimal number of components (k): 10\n"
          ]
        },
        {
          "output_type": "execute_result",
          "data": {
            "text/plain": [
              "GaussianMixture(n_components=10, random_state=42)"
            ],
            "text/html": [
              "<style>#sk-container-id-1 {\n",
              "  /* Definition of color scheme common for light and dark mode */\n",
              "  --sklearn-color-text: #000;\n",
              "  --sklearn-color-text-muted: #666;\n",
              "  --sklearn-color-line: gray;\n",
              "  /* Definition of color scheme for unfitted estimators */\n",
              "  --sklearn-color-unfitted-level-0: #fff5e6;\n",
              "  --sklearn-color-unfitted-level-1: #f6e4d2;\n",
              "  --sklearn-color-unfitted-level-2: #ffe0b3;\n",
              "  --sklearn-color-unfitted-level-3: chocolate;\n",
              "  /* Definition of color scheme for fitted estimators */\n",
              "  --sklearn-color-fitted-level-0: #f0f8ff;\n",
              "  --sklearn-color-fitted-level-1: #d4ebff;\n",
              "  --sklearn-color-fitted-level-2: #b3dbfd;\n",
              "  --sklearn-color-fitted-level-3: cornflowerblue;\n",
              "\n",
              "  /* Specific color for light theme */\n",
              "  --sklearn-color-text-on-default-background: var(--sg-text-color, var(--theme-code-foreground, var(--jp-content-font-color1, black)));\n",
              "  --sklearn-color-background: var(--sg-background-color, var(--theme-background, var(--jp-layout-color0, white)));\n",
              "  --sklearn-color-border-box: var(--sg-text-color, var(--theme-code-foreground, var(--jp-content-font-color1, black)));\n",
              "  --sklearn-color-icon: #696969;\n",
              "\n",
              "  @media (prefers-color-scheme: dark) {\n",
              "    /* Redefinition of color scheme for dark theme */\n",
              "    --sklearn-color-text-on-default-background: var(--sg-text-color, var(--theme-code-foreground, var(--jp-content-font-color1, white)));\n",
              "    --sklearn-color-background: var(--sg-background-color, var(--theme-background, var(--jp-layout-color0, #111)));\n",
              "    --sklearn-color-border-box: var(--sg-text-color, var(--theme-code-foreground, var(--jp-content-font-color1, white)));\n",
              "    --sklearn-color-icon: #878787;\n",
              "  }\n",
              "}\n",
              "\n",
              "#sk-container-id-1 {\n",
              "  color: var(--sklearn-color-text);\n",
              "}\n",
              "\n",
              "#sk-container-id-1 pre {\n",
              "  padding: 0;\n",
              "}\n",
              "\n",
              "#sk-container-id-1 input.sk-hidden--visually {\n",
              "  border: 0;\n",
              "  clip: rect(1px 1px 1px 1px);\n",
              "  clip: rect(1px, 1px, 1px, 1px);\n",
              "  height: 1px;\n",
              "  margin: -1px;\n",
              "  overflow: hidden;\n",
              "  padding: 0;\n",
              "  position: absolute;\n",
              "  width: 1px;\n",
              "}\n",
              "\n",
              "#sk-container-id-1 div.sk-dashed-wrapped {\n",
              "  border: 1px dashed var(--sklearn-color-line);\n",
              "  margin: 0 0.4em 0.5em 0.4em;\n",
              "  box-sizing: border-box;\n",
              "  padding-bottom: 0.4em;\n",
              "  background-color: var(--sklearn-color-background);\n",
              "}\n",
              "\n",
              "#sk-container-id-1 div.sk-container {\n",
              "  /* jupyter's `normalize.less` sets `[hidden] { display: none; }`\n",
              "     but bootstrap.min.css set `[hidden] { display: none !important; }`\n",
              "     so we also need the `!important` here to be able to override the\n",
              "     default hidden behavior on the sphinx rendered scikit-learn.org.\n",
              "     See: https://github.com/scikit-learn/scikit-learn/issues/21755 */\n",
              "  display: inline-block !important;\n",
              "  position: relative;\n",
              "}\n",
              "\n",
              "#sk-container-id-1 div.sk-text-repr-fallback {\n",
              "  display: none;\n",
              "}\n",
              "\n",
              "div.sk-parallel-item,\n",
              "div.sk-serial,\n",
              "div.sk-item {\n",
              "  /* draw centered vertical line to link estimators */\n",
              "  background-image: linear-gradient(var(--sklearn-color-text-on-default-background), var(--sklearn-color-text-on-default-background));\n",
              "  background-size: 2px 100%;\n",
              "  background-repeat: no-repeat;\n",
              "  background-position: center center;\n",
              "}\n",
              "\n",
              "/* Parallel-specific style estimator block */\n",
              "\n",
              "#sk-container-id-1 div.sk-parallel-item::after {\n",
              "  content: \"\";\n",
              "  width: 100%;\n",
              "  border-bottom: 2px solid var(--sklearn-color-text-on-default-background);\n",
              "  flex-grow: 1;\n",
              "}\n",
              "\n",
              "#sk-container-id-1 div.sk-parallel {\n",
              "  display: flex;\n",
              "  align-items: stretch;\n",
              "  justify-content: center;\n",
              "  background-color: var(--sklearn-color-background);\n",
              "  position: relative;\n",
              "}\n",
              "\n",
              "#sk-container-id-1 div.sk-parallel-item {\n",
              "  display: flex;\n",
              "  flex-direction: column;\n",
              "}\n",
              "\n",
              "#sk-container-id-1 div.sk-parallel-item:first-child::after {\n",
              "  align-self: flex-end;\n",
              "  width: 50%;\n",
              "}\n",
              "\n",
              "#sk-container-id-1 div.sk-parallel-item:last-child::after {\n",
              "  align-self: flex-start;\n",
              "  width: 50%;\n",
              "}\n",
              "\n",
              "#sk-container-id-1 div.sk-parallel-item:only-child::after {\n",
              "  width: 0;\n",
              "}\n",
              "\n",
              "/* Serial-specific style estimator block */\n",
              "\n",
              "#sk-container-id-1 div.sk-serial {\n",
              "  display: flex;\n",
              "  flex-direction: column;\n",
              "  align-items: center;\n",
              "  background-color: var(--sklearn-color-background);\n",
              "  padding-right: 1em;\n",
              "  padding-left: 1em;\n",
              "}\n",
              "\n",
              "\n",
              "/* Toggleable style: style used for estimator/Pipeline/ColumnTransformer box that is\n",
              "clickable and can be expanded/collapsed.\n",
              "- Pipeline and ColumnTransformer use this feature and define the default style\n",
              "- Estimators will overwrite some part of the style using the `sk-estimator` class\n",
              "*/\n",
              "\n",
              "/* Pipeline and ColumnTransformer style (default) */\n",
              "\n",
              "#sk-container-id-1 div.sk-toggleable {\n",
              "  /* Default theme specific background. It is overwritten whether we have a\n",
              "  specific estimator or a Pipeline/ColumnTransformer */\n",
              "  background-color: var(--sklearn-color-background);\n",
              "}\n",
              "\n",
              "/* Toggleable label */\n",
              "#sk-container-id-1 label.sk-toggleable__label {\n",
              "  cursor: pointer;\n",
              "  display: flex;\n",
              "  width: 100%;\n",
              "  margin-bottom: 0;\n",
              "  padding: 0.5em;\n",
              "  box-sizing: border-box;\n",
              "  text-align: center;\n",
              "  align-items: start;\n",
              "  justify-content: space-between;\n",
              "  gap: 0.5em;\n",
              "}\n",
              "\n",
              "#sk-container-id-1 label.sk-toggleable__label .caption {\n",
              "  font-size: 0.6rem;\n",
              "  font-weight: lighter;\n",
              "  color: var(--sklearn-color-text-muted);\n",
              "}\n",
              "\n",
              "#sk-container-id-1 label.sk-toggleable__label-arrow:before {\n",
              "  /* Arrow on the left of the label */\n",
              "  content: \"▸\";\n",
              "  float: left;\n",
              "  margin-right: 0.25em;\n",
              "  color: var(--sklearn-color-icon);\n",
              "}\n",
              "\n",
              "#sk-container-id-1 label.sk-toggleable__label-arrow:hover:before {\n",
              "  color: var(--sklearn-color-text);\n",
              "}\n",
              "\n",
              "/* Toggleable content - dropdown */\n",
              "\n",
              "#sk-container-id-1 div.sk-toggleable__content {\n",
              "  max-height: 0;\n",
              "  max-width: 0;\n",
              "  overflow: hidden;\n",
              "  text-align: left;\n",
              "  /* unfitted */\n",
              "  background-color: var(--sklearn-color-unfitted-level-0);\n",
              "}\n",
              "\n",
              "#sk-container-id-1 div.sk-toggleable__content.fitted {\n",
              "  /* fitted */\n",
              "  background-color: var(--sklearn-color-fitted-level-0);\n",
              "}\n",
              "\n",
              "#sk-container-id-1 div.sk-toggleable__content pre {\n",
              "  margin: 0.2em;\n",
              "  border-radius: 0.25em;\n",
              "  color: var(--sklearn-color-text);\n",
              "  /* unfitted */\n",
              "  background-color: var(--sklearn-color-unfitted-level-0);\n",
              "}\n",
              "\n",
              "#sk-container-id-1 div.sk-toggleable__content.fitted pre {\n",
              "  /* unfitted */\n",
              "  background-color: var(--sklearn-color-fitted-level-0);\n",
              "}\n",
              "\n",
              "#sk-container-id-1 input.sk-toggleable__control:checked~div.sk-toggleable__content {\n",
              "  /* Expand drop-down */\n",
              "  max-height: 200px;\n",
              "  max-width: 100%;\n",
              "  overflow: auto;\n",
              "}\n",
              "\n",
              "#sk-container-id-1 input.sk-toggleable__control:checked~label.sk-toggleable__label-arrow:before {\n",
              "  content: \"▾\";\n",
              "}\n",
              "\n",
              "/* Pipeline/ColumnTransformer-specific style */\n",
              "\n",
              "#sk-container-id-1 div.sk-label input.sk-toggleable__control:checked~label.sk-toggleable__label {\n",
              "  color: var(--sklearn-color-text);\n",
              "  background-color: var(--sklearn-color-unfitted-level-2);\n",
              "}\n",
              "\n",
              "#sk-container-id-1 div.sk-label.fitted input.sk-toggleable__control:checked~label.sk-toggleable__label {\n",
              "  background-color: var(--sklearn-color-fitted-level-2);\n",
              "}\n",
              "\n",
              "/* Estimator-specific style */\n",
              "\n",
              "/* Colorize estimator box */\n",
              "#sk-container-id-1 div.sk-estimator input.sk-toggleable__control:checked~label.sk-toggleable__label {\n",
              "  /* unfitted */\n",
              "  background-color: var(--sklearn-color-unfitted-level-2);\n",
              "}\n",
              "\n",
              "#sk-container-id-1 div.sk-estimator.fitted input.sk-toggleable__control:checked~label.sk-toggleable__label {\n",
              "  /* fitted */\n",
              "  background-color: var(--sklearn-color-fitted-level-2);\n",
              "}\n",
              "\n",
              "#sk-container-id-1 div.sk-label label.sk-toggleable__label,\n",
              "#sk-container-id-1 div.sk-label label {\n",
              "  /* The background is the default theme color */\n",
              "  color: var(--sklearn-color-text-on-default-background);\n",
              "}\n",
              "\n",
              "/* On hover, darken the color of the background */\n",
              "#sk-container-id-1 div.sk-label:hover label.sk-toggleable__label {\n",
              "  color: var(--sklearn-color-text);\n",
              "  background-color: var(--sklearn-color-unfitted-level-2);\n",
              "}\n",
              "\n",
              "/* Label box, darken color on hover, fitted */\n",
              "#sk-container-id-1 div.sk-label.fitted:hover label.sk-toggleable__label.fitted {\n",
              "  color: var(--sklearn-color-text);\n",
              "  background-color: var(--sklearn-color-fitted-level-2);\n",
              "}\n",
              "\n",
              "/* Estimator label */\n",
              "\n",
              "#sk-container-id-1 div.sk-label label {\n",
              "  font-family: monospace;\n",
              "  font-weight: bold;\n",
              "  display: inline-block;\n",
              "  line-height: 1.2em;\n",
              "}\n",
              "\n",
              "#sk-container-id-1 div.sk-label-container {\n",
              "  text-align: center;\n",
              "}\n",
              "\n",
              "/* Estimator-specific */\n",
              "#sk-container-id-1 div.sk-estimator {\n",
              "  font-family: monospace;\n",
              "  border: 1px dotted var(--sklearn-color-border-box);\n",
              "  border-radius: 0.25em;\n",
              "  box-sizing: border-box;\n",
              "  margin-bottom: 0.5em;\n",
              "  /* unfitted */\n",
              "  background-color: var(--sklearn-color-unfitted-level-0);\n",
              "}\n",
              "\n",
              "#sk-container-id-1 div.sk-estimator.fitted {\n",
              "  /* fitted */\n",
              "  background-color: var(--sklearn-color-fitted-level-0);\n",
              "}\n",
              "\n",
              "/* on hover */\n",
              "#sk-container-id-1 div.sk-estimator:hover {\n",
              "  /* unfitted */\n",
              "  background-color: var(--sklearn-color-unfitted-level-2);\n",
              "}\n",
              "\n",
              "#sk-container-id-1 div.sk-estimator.fitted:hover {\n",
              "  /* fitted */\n",
              "  background-color: var(--sklearn-color-fitted-level-2);\n",
              "}\n",
              "\n",
              "/* Specification for estimator info (e.g. \"i\" and \"?\") */\n",
              "\n",
              "/* Common style for \"i\" and \"?\" */\n",
              "\n",
              ".sk-estimator-doc-link,\n",
              "a:link.sk-estimator-doc-link,\n",
              "a:visited.sk-estimator-doc-link {\n",
              "  float: right;\n",
              "  font-size: smaller;\n",
              "  line-height: 1em;\n",
              "  font-family: monospace;\n",
              "  background-color: var(--sklearn-color-background);\n",
              "  border-radius: 1em;\n",
              "  height: 1em;\n",
              "  width: 1em;\n",
              "  text-decoration: none !important;\n",
              "  margin-left: 0.5em;\n",
              "  text-align: center;\n",
              "  /* unfitted */\n",
              "  border: var(--sklearn-color-unfitted-level-1) 1pt solid;\n",
              "  color: var(--sklearn-color-unfitted-level-1);\n",
              "}\n",
              "\n",
              ".sk-estimator-doc-link.fitted,\n",
              "a:link.sk-estimator-doc-link.fitted,\n",
              "a:visited.sk-estimator-doc-link.fitted {\n",
              "  /* fitted */\n",
              "  border: var(--sklearn-color-fitted-level-1) 1pt solid;\n",
              "  color: var(--sklearn-color-fitted-level-1);\n",
              "}\n",
              "\n",
              "/* On hover */\n",
              "div.sk-estimator:hover .sk-estimator-doc-link:hover,\n",
              ".sk-estimator-doc-link:hover,\n",
              "div.sk-label-container:hover .sk-estimator-doc-link:hover,\n",
              ".sk-estimator-doc-link:hover {\n",
              "  /* unfitted */\n",
              "  background-color: var(--sklearn-color-unfitted-level-3);\n",
              "  color: var(--sklearn-color-background);\n",
              "  text-decoration: none;\n",
              "}\n",
              "\n",
              "div.sk-estimator.fitted:hover .sk-estimator-doc-link.fitted:hover,\n",
              ".sk-estimator-doc-link.fitted:hover,\n",
              "div.sk-label-container:hover .sk-estimator-doc-link.fitted:hover,\n",
              ".sk-estimator-doc-link.fitted:hover {\n",
              "  /* fitted */\n",
              "  background-color: var(--sklearn-color-fitted-level-3);\n",
              "  color: var(--sklearn-color-background);\n",
              "  text-decoration: none;\n",
              "}\n",
              "\n",
              "/* Span, style for the box shown on hovering the info icon */\n",
              ".sk-estimator-doc-link span {\n",
              "  display: none;\n",
              "  z-index: 9999;\n",
              "  position: relative;\n",
              "  font-weight: normal;\n",
              "  right: .2ex;\n",
              "  padding: .5ex;\n",
              "  margin: .5ex;\n",
              "  width: min-content;\n",
              "  min-width: 20ex;\n",
              "  max-width: 50ex;\n",
              "  color: var(--sklearn-color-text);\n",
              "  box-shadow: 2pt 2pt 4pt #999;\n",
              "  /* unfitted */\n",
              "  background: var(--sklearn-color-unfitted-level-0);\n",
              "  border: .5pt solid var(--sklearn-color-unfitted-level-3);\n",
              "}\n",
              "\n",
              ".sk-estimator-doc-link.fitted span {\n",
              "  /* fitted */\n",
              "  background: var(--sklearn-color-fitted-level-0);\n",
              "  border: var(--sklearn-color-fitted-level-3);\n",
              "}\n",
              "\n",
              ".sk-estimator-doc-link:hover span {\n",
              "  display: block;\n",
              "}\n",
              "\n",
              "/* \"?\"-specific style due to the `<a>` HTML tag */\n",
              "\n",
              "#sk-container-id-1 a.estimator_doc_link {\n",
              "  float: right;\n",
              "  font-size: 1rem;\n",
              "  line-height: 1em;\n",
              "  font-family: monospace;\n",
              "  background-color: var(--sklearn-color-background);\n",
              "  border-radius: 1rem;\n",
              "  height: 1rem;\n",
              "  width: 1rem;\n",
              "  text-decoration: none;\n",
              "  /* unfitted */\n",
              "  color: var(--sklearn-color-unfitted-level-1);\n",
              "  border: var(--sklearn-color-unfitted-level-1) 1pt solid;\n",
              "}\n",
              "\n",
              "#sk-container-id-1 a.estimator_doc_link.fitted {\n",
              "  /* fitted */\n",
              "  border: var(--sklearn-color-fitted-level-1) 1pt solid;\n",
              "  color: var(--sklearn-color-fitted-level-1);\n",
              "}\n",
              "\n",
              "/* On hover */\n",
              "#sk-container-id-1 a.estimator_doc_link:hover {\n",
              "  /* unfitted */\n",
              "  background-color: var(--sklearn-color-unfitted-level-3);\n",
              "  color: var(--sklearn-color-background);\n",
              "  text-decoration: none;\n",
              "}\n",
              "\n",
              "#sk-container-id-1 a.estimator_doc_link.fitted:hover {\n",
              "  /* fitted */\n",
              "  background-color: var(--sklearn-color-fitted-level-3);\n",
              "}\n",
              "</style><div id=\"sk-container-id-1\" class=\"sk-top-container\"><div class=\"sk-text-repr-fallback\"><pre>GaussianMixture(n_components=10, random_state=42)</pre><b>In a Jupyter environment, please rerun this cell to show the HTML representation or trust the notebook. <br />On GitHub, the HTML representation is unable to render, please try loading this page with nbviewer.org.</b></div><div class=\"sk-container\" hidden><div class=\"sk-item\"><div class=\"sk-estimator fitted sk-toggleable\"><input class=\"sk-toggleable__control sk-hidden--visually\" id=\"sk-estimator-id-1\" type=\"checkbox\" checked><label for=\"sk-estimator-id-1\" class=\"sk-toggleable__label fitted sk-toggleable__label-arrow\"><div><div>GaussianMixture</div></div><div><a class=\"sk-estimator-doc-link fitted\" rel=\"noreferrer\" target=\"_blank\" href=\"https://scikit-learn.org/1.6/modules/generated/sklearn.mixture.GaussianMixture.html\">?<span>Documentation for GaussianMixture</span></a><span class=\"sk-estimator-doc-link fitted\">i<span>Fitted</span></span></div></label><div class=\"sk-toggleable__content fitted\"><pre>GaussianMixture(n_components=10, random_state=42)</pre></div> </div></div></div></div>"
            ]
          },
          "metadata": {},
          "execution_count": 4
        }
      ]
    },
    {
      "cell_type": "markdown",
      "source": [
        "### GMM Implementation and Choice of Components\n",
        "\n",
        "We trained Gaussian Mixture Models (GMM) with different numbers of components (`k` from 1 to 10) using the **minority class data**.\n",
        "\n",
        "- **AIC (Akaike Information Criterion):**\n",
        "  - Decreased consistently as the number of components increased.\n",
        "  - Suggests that adding more components continues to improve model fit.\n",
        "\n",
        "- **BIC (Bayesian Information Criterion):**\n",
        "  - Penalizes model complexity more strongly than AIC.\n",
        "  - Flattened around `k = 4–6`, but the overall minimum value was reached at **k = 10**.\n",
        "\n",
        "Based on the **lowest BIC score**, the optimal number of mixture components was selected as **k = 10**.  \n",
        "This indicates that the minority class distribution can best be modeled as a mixture of 10 Gaussian clusters.  \n",
        "\n",
        "By selecting this `k`, the GMM is able to capture **sub-groups and complex patterns** in the minority data, which a simpler model (like SMOTE) would fail to represent.\n"
      ],
      "metadata": {
        "id": "13ILRL6XA6sX"
      }
    },
    {
      "cell_type": "markdown",
      "source": [
        "**STEP 3 : Synthetic Data Generation**"
      ],
      "metadata": {
        "id": "PeAottAuCy7b"
      }
    },
    {
      "cell_type": "code",
      "source": [
        "n_minority = X_minority.shape[0]\n",
        "n_majority = X_train[y_train == 0].shape[0]\n",
        "n_to_generate = n_majority - n_minority\n",
        "\n",
        "print(f\"Minority samples before: {n_minority}\")\n",
        "print(f\"Majority samples: {n_majority}\")\n",
        "print(f\"Need to generate: {n_to_generate} synthetic samples\")\n",
        "\n",
        "synthetic_minority, _ = gmm_final.sample(n_to_generate)\n",
        "\n",
        "print(\"Synthetic minority samples generated:\", synthetic_minority.shape[0])\n",
        "\n",
        "X_minority_balanced = np.vstack([X_minority, synthetic_minority])\n",
        "y_minority_balanced = np.ones(X_minority_balanced.shape[0])\n",
        "\n",
        "X_majority_balanced = X_train[y_train == 0]\n",
        "y_majority_balanced = np.zeros(X_majority_balanced.shape[0])\n",
        "\n",
        "X_train_balanced = np.vstack([X_majority_balanced, X_minority_balanced])\n",
        "y_train_balanced = np.hstack([y_majority_balanced, y_minority_balanced])\n",
        "\n",
        "print(\"Balanced training dataset shape:\", X_train_balanced.shape)\n",
        "print(\"Minority class count after balancing:\", y_train_balanced.sum())\n",
        "print(\"Majority class count after balancing:\", (y_train_balanced==0).sum())\n"
      ],
      "metadata": {
        "colab": {
          "base_uri": "https://localhost:8080/"
        },
        "id": "kg4Caw_vApU7",
        "outputId": "c27e219f-ca8d-45c9-cced-b6f4b1eabb31"
      },
      "execution_count": 5,
      "outputs": [
        {
          "output_type": "stream",
          "name": "stdout",
          "text": [
            "Minority samples before: 344\n",
            "Majority samples: 199020\n",
            "Need to generate: 198676 synthetic samples\n",
            "Synthetic minority samples generated: 198676\n",
            "Balanced training dataset shape: (398040, 30)\n",
            "Minority class count after balancing: 199020.0\n",
            "Majority class count after balancing: 199020\n"
          ]
        }
      ]
    },
    {
      "cell_type": "markdown",
      "source": [
        "### Synthetic Data Generation\n",
        "\n",
        "After fitting the GMM with **k = 10 components**, we generated new synthetic samples to balance the dataset:\n",
        "\n",
        "- **Class Distribution Before Sampling:**\n",
        "  - Minority samples: **344**\n",
        "  - Majority samples: **199,020**\n",
        "  - Gap to fill: **198,676 synthetic samples** needed.\n",
        "\n",
        "- **Sampling from a GMM:**\n",
        "  A Gaussian Mixture Model generates new data points by:\n",
        "  1. Selecting one Gaussian component according to its mixture weight (probability).\n",
        "  2. Drawing a random sample from that Gaussian distribution.\n",
        "  3. Repeating the process until the required number of samples is obtained.  \n",
        "\n",
        "- **Result of Sampling:**\n",
        "  - Synthetic minority samples generated: **198,676**\n",
        "  - New balanced dataset size: **398,040 samples**\n",
        "  - Final class distribution:\n",
        "    - Minority: **199,020**\n",
        "    - Majority: **199,020**\n",
        "\n",
        "This balancing ensures that the classifier will now see an **equal representation** of fraudulent and non-fraudulent cases, while the GMM-based sampling preserves the **underlying sub-structures** in the minority class distribution.\n"
      ],
      "metadata": {
        "id": "xV1dQhbvCUw7"
      }
    },
    {
      "cell_type": "markdown",
      "source": [
        "**STEP 4 : Rebalancing with CBU**"
      ],
      "metadata": {
        "id": "v_XWgdpdDCV7"
      }
    },
    {
      "cell_type": "code",
      "source": [
        "from sklearn.cluster import KMeans\n",
        "\n",
        "X_majority = X_train[y_train == 0]\n",
        "X_minority = X_train[y_train == 1]\n",
        "\n",
        "print(\"Original majority shape:\", X_majority.shape)\n",
        "print(\"Original minority shape:\", X_minority.shape)\n",
        "\n",
        "target_majority_size = 5000\n",
        "\n",
        "kmeans = KMeans(n_clusters=target_majority_size, random_state=42)\n",
        "kmeans.fit(X_majority)\n",
        "\n",
        "X_majority_cbu = kmeans.cluster_centers_\n",
        "y_majority_cbu = np.zeros(X_majority_cbu.shape[0])\n",
        "\n",
        "print(\"Reduced majority (after CBU):\", X_majority_cbu.shape)\n",
        "\n",
        "n_to_generate = X_majority_cbu.shape[0] - X_minority.shape[0]\n",
        "synthetic_minority, _ = gmm_final.sample(n_to_generate)\n",
        "\n",
        "X_minority_cbu = np.vstack([X_minority, synthetic_minority])\n",
        "y_minority_cbu = np.ones(X_minority_cbu.shape[0])\n",
        "\n",
        "print(\"Balanced minority after GMM sampling:\", X_minority_cbu.shape)\n",
        "\n",
        "X_train_cbu_balanced = np.vstack([X_majority_cbu, X_minority_cbu])\n",
        "y_train_cbu_balanced = np.hstack([y_majority_cbu, y_minority_cbu])\n",
        "\n",
        "print(\"Final balanced dataset shape:\", X_train_cbu_balanced.shape)\n",
        "print(\"Majority count:\", (y_train_cbu_balanced == 0).sum())\n",
        "print(\"Minority count:\", (y_train_cbu_balanced == 1).sum())\n"
      ],
      "metadata": {
        "colab": {
          "base_uri": "https://localhost:8080/"
        },
        "id": "rMs5qWjyBgB8",
        "outputId": "3dd8f7e7-8f55-48ff-ad5f-61cb8cd0399b"
      },
      "execution_count": 6,
      "outputs": [
        {
          "output_type": "stream",
          "name": "stdout",
          "text": [
            "Original majority shape: (199020, 30)\n",
            "Original minority shape: (344, 30)\n",
            "Reduced majority (after CBU): (5000, 30)\n",
            "Balanced minority after GMM sampling: (5000, 30)\n",
            "Final balanced dataset shape: (10000, 30)\n",
            "Majority count: 5000\n",
            "Minority count: 5000\n"
          ]
        }
      ]
    },
    {
      "cell_type": "markdown",
      "source": [
        "### Rebalancing with Clustering-Based Undersampling (CBU)\n",
        "\n",
        "Initially, the dataset was highly imbalanced:\n",
        "\n",
        "- Majority class: **199,020 samples**\n",
        "- Minority class: **344 samples**\n",
        "\n",
        "To create a more manageable and balanced dataset, we applied **Clustering-Based Undersampling (CBU)** and **GMM-based oversampling**:\n",
        "\n",
        "1. **Majority Reduction (CBU):**\n",
        "   - We applied **KMeans clustering** on the majority class (199,020 samples).\n",
        "   - Reduced it to **5,000 representative centroids**, which preserve the overall distribution while removing redundancy.\n",
        "\n",
        "2. **Minority Expansion (GMM):**\n",
        "   - Using the fitted **GMM with 10 components**, we generated synthetic minority samples.\n",
        "   - Combined with the original minority data (344 samples), this resulted in a **balanced minority set of 5,000 samples**.\n",
        "\n",
        "3. **Final Balanced Dataset:**\n",
        "   - Majority (after CBU): **5,000**\n",
        "   - Minority (real + synthetic): **5,000**\n",
        "   - **Total dataset size:** 10,000 samples\n",
        "\n",
        "This approach yields a **balanced dataset (50% majority, 50% minority)**, significantly smaller and more computationally efficient than the full oversampling approach (~398k samples), while still preserving the essential structure of both classes.\n"
      ],
      "metadata": {
        "id": "q0qmQvpOE3s-"
      }
    },
    {
      "cell_type": "markdown",
      "source": [
        "# **Part C:  Performance Evaluation and Conclusion**"
      ],
      "metadata": {
        "id": "j_8TwKcZFNmv"
      }
    },
    {
      "cell_type": "markdown",
      "source": [
        "**STEP 1 : Model Training and Evaluation**"
      ],
      "metadata": {
        "id": "JdTlgXr8FWiF"
      }
    },
    {
      "cell_type": "code",
      "source": [
        "\n",
        "from sklearn.linear_model import LogisticRegression\n",
        "from sklearn.metrics import classification_report, ConfusionMatrixDisplay\n",
        "\n",
        "clf_gmm_full = LogisticRegression(max_iter=1000, random_state=42)\n",
        "clf_gmm_full.fit(X_train_balanced, y_train_balanced)\n",
        "\n",
        "y_pred_gmm_full = clf_gmm_full.predict(X_test)\n",
        "\n",
        "print(\"=== Classification Report: Full GMM-balanced Training ===\")\n",
        "print(classification_report(y_test, y_pred_gmm_full, digits=4))\n",
        "\n",
        "ConfusionMatrixDisplay.from_estimator(clf_gmm_full, X_test, y_test)\n",
        "plt.title(\"Confusion Matrix - Full GMM Balanced\")\n",
        "plt.show()\n",
        "\n",
        "\n",
        "clf_gmm_cbu = LogisticRegression(max_iter=1000, random_state=42)\n",
        "clf_gmm_cbu.fit(X_train_cbu_balanced, y_train_cbu_balanced)\n",
        "\n",
        "y_pred_gmm_cbu = clf_gmm_cbu.predict(X_test)\n",
        "\n",
        "print(\"=== Classification Report: CBU + GMM-balanced Training ===\")\n",
        "print(classification_report(y_test, y_pred_gmm_cbu, digits=4))\n",
        "\n",
        "ConfusionMatrixDisplay.from_estimator(clf_gmm_cbu, X_test, y_test)\n",
        "plt.title(\"Confusion Matrix - CBU + GMM Balanced\")\n",
        "plt.show()\n"
      ],
      "metadata": {
        "colab": {
          "base_uri": "https://localhost:8080/",
          "height": 1000
        },
        "id": "0Dkug5TXDS3L",
        "outputId": "a16b7e77-5cb8-4d9f-d9c5-66a7d31d8946"
      },
      "execution_count": 7,
      "outputs": [
        {
          "output_type": "stream",
          "name": "stderr",
          "text": [
            "/usr/local/lib/python3.12/dist-packages/sklearn/linear_model/_logistic.py:465: ConvergenceWarning: lbfgs failed to converge (status=1):\n",
            "STOP: TOTAL NO. OF ITERATIONS REACHED LIMIT.\n",
            "\n",
            "Increase the number of iterations (max_iter) or scale the data as shown in:\n",
            "    https://scikit-learn.org/stable/modules/preprocessing.html\n",
            "Please also refer to the documentation for alternative solver options:\n",
            "    https://scikit-learn.org/stable/modules/linear_model.html#logistic-regression\n",
            "  n_iter_i = _check_optimize_result(\n",
            "/usr/local/lib/python3.12/dist-packages/sklearn/utils/validation.py:2732: UserWarning: X has feature names, but LogisticRegression was fitted without feature names\n",
            "  warnings.warn(\n",
            "/usr/local/lib/python3.12/dist-packages/sklearn/utils/validation.py:2732: UserWarning: X has feature names, but LogisticRegression was fitted without feature names\n",
            "  warnings.warn(\n"
          ]
        },
        {
          "output_type": "stream",
          "name": "stdout",
          "text": [
            "=== Classification Report: Full GMM-balanced Training ===\n",
            "              precision    recall  f1-score   support\n",
            "\n",
            "           0     0.9998    0.9768    0.9881     85295\n",
            "           1     0.0606    0.8649    0.1133       148\n",
            "\n",
            "    accuracy                         0.9766     85443\n",
            "   macro avg     0.5302    0.9208    0.5507     85443\n",
            "weighted avg     0.9981    0.9766    0.9866     85443\n",
            "\n"
          ]
        },
        {
          "output_type": "display_data",
          "data": {
            "text/plain": [
              "<Figure size 640x480 with 2 Axes>"
            ],
            "image/png": "[encoded data removed]"
          },
          "metadata": {}
        },
        {
          "output_type": "stream",
          "name": "stderr",
          "text": [
            "/usr/local/lib/python3.12/dist-packages/sklearn/linear_model/_logistic.py:465: ConvergenceWarning: lbfgs failed to converge (status=1):\n",
            "STOP: TOTAL NO. OF ITERATIONS REACHED LIMIT.\n",
            "\n",
            "Increase the number of iterations (max_iter) or scale the data as shown in:\n",
            "    https://scikit-learn.org/stable/modules/preprocessing.html\n",
            "Please also refer to the documentation for alternative solver options:\n",
            "    https://scikit-learn.org/stable/modules/linear_model.html#logistic-regression\n",
            "  n_iter_i = _check_optimize_result(\n",
            "/usr/local/lib/python3.12/dist-packages/sklearn/utils/validation.py:2732: UserWarning: X has feature names, but LogisticRegression was fitted without feature names\n",
            "  warnings.warn(\n",
            "/usr/local/lib/python3.12/dist-packages/sklearn/utils/validation.py:2732: UserWarning: X has feature names, but LogisticRegression was fitted without feature names\n",
            "  warnings.warn(\n"
          ]
        },
        {
          "output_type": "stream",
          "name": "stdout",
          "text": [
            "=== Classification Report: CBU + GMM-balanced Training ===\n",
            "              precision    recall  f1-score   support\n",
            "\n",
            "           0     0.9998    0.7693    0.8695     85295\n",
            "           1     0.0067    0.8986    0.0133       148\n",
            "\n",
            "    accuracy                         0.7695     85443\n",
            "   macro avg     0.5032    0.8340    0.4414     85443\n",
            "weighted avg     0.9981    0.7695    0.8680     85443\n",
            "\n"
          ]
        },
        {
          "output_type": "display_data",
          "data": {
            "text/plain": [
              "<Figure size 640x480 with 2 Axes>"
            ],
            "image/png": "[encoded data removed]"
          },
          "metadata": {}
        }
      ]
    },
    {
      "cell_type": "markdown",
      "source": [
        "**STEP 2 : Comparative Analysis**"
      ],
      "metadata": {
        "id": "sOH-tkO6H13N"
      }
    },
    {
      "cell_type": "code",
      "source": [
        "import pandas as pd\n",
        "import matplotlib.pyplot as plt\n",
        "\n",
        "results = {\n",
        "    \"Baseline (Imbalanced)\": {\"Precision\": 0.8362, \"Recall\": 0.6554, \"F1-score\": 0.7348},\n",
        "    \"Full GMM Balanced\": {\"Precision\": 0.0606, \"Recall\": 0.8649, \"F1-score\": 0.1133},\n",
        "    \"CBU + GMM Balanced\": {\"Precision\": 0.0067, \"Recall\": 0.8986, \"F1-score\": 0.0133},\n",
        "}\n",
        "\n",
        "df_results = pd.DataFrame(results).T\n",
        "print(df_results)\n",
        "\n",
        "df_results.plot(kind=\"bar\", figsize=(8,6))\n",
        "plt.title(\"Minority Class Performance: Baseline vs GMM-based Models\")\n",
        "plt.ylabel(\"Score\")\n",
        "plt.ylim(0,1)\n",
        "plt.xticks(rotation=0)\n",
        "plt.legend(title=\"Metric\")\n",
        "plt.show()\n"
      ],
      "metadata": {
        "colab": {
          "base_uri": "https://localhost:8080/",
          "height": 616
        },
        "id": "4QL5IVVyFdXg",
        "outputId": "ff4bb88a-fa54-4386-bb9e-bda6195c3aca"
      },
      "execution_count": 8,
      "outputs": [
        {
          "output_type": "stream",
          "name": "stdout",
          "text": [
            "                       Precision  Recall  F1-score\n",
            "Baseline (Imbalanced)     0.8362  0.6554    0.7348\n",
            "Full GMM Balanced         0.0606  0.8649    0.1133\n",
            "CBU + GMM Balanced        0.0067  0.8986    0.0133\n"
          ]
        },
        {
          "output_type": "display_data",
          "data": {
            "text/plain": [
              "<Figure size 800x600 with 1 Axes>"
            ],
            "image/png": "[encoded data removed]"
          },
          "metadata": {}
        }
      ]
    },
    {
      "cell_type": "markdown",
      "source": [
        "### Model Training and Evaluation\n",
        "\n",
        "We trained two Logistic Regression models on different balanced datasets and tested them on the **original imbalanced test set**:\n",
        "\n",
        "---\n",
        "\n",
        "#### 1. Full GMM-balanced Training (~398k samples)\n",
        "- **Minority class results (fraudulent):**\n",
        "  - Precision: **0.0606**\n",
        "  - Recall: **0.8649**\n",
        "  - F1-score: **0.1133**\n",
        "- **Observation:**\n",
        "  - Very high recall → the model detected most fraud cases (128 out of 148).  \n",
        "  - However, precision is extremely low → a large number of false positives (1983).  \n",
        "  - This is often acceptable in fraud detection, since missing fraud is more costly than investigating extra false alarms.\n",
        "\n",
        "---\n",
        "\n",
        "#### 2. CBU + GMM-balanced Training (10k samples)\n",
        "- **Minority class results (fraudulent):**\n",
        "  - Precision: **0.0067**\n",
        "  - Recall: **0.8986**\n",
        "  - F1-score: **0.0133**\n",
        "- **Observation:**\n",
        "  - Recall slightly higher (133 out of 148 fraud cases detected).  \n",
        "  - Precision dropped even further, meaning almost all fraud predictions are false alarms.  \n",
        "  - This version is more computationally efficient but produces weaker precision compared to the full GMM-balanced model.\n",
        "\n",
        "---\n",
        "\n",
        "### Summary of Results (Minority Class)\n",
        "\n",
        "| Model                   | Precision | Recall | F1-score |\n",
        "|--------------------------|-----------|--------|----------|\n",
        "| **Baseline (Part A)**   | 0.8362    | 0.6554 | 0.7348   |\n",
        "| **Full GMM Balanced**   | 0.0606    | 0.8649 | 0.1133   |\n",
        "| **CBU + GMM Balanced**  | 0.0067    | 0.8986 | 0.0133   |\n",
        "\n",
        "---\n",
        "\n",
        "**Key Insights:**\n",
        "- **Baseline model** had excellent precision (0.83) but low recall (0.65), meaning it rarely mislabels fraud, but misses a significant fraction of fraudulent cases.  \n",
        "- **Full GMM-balanced model** shifted towards very high recall (0.86) but with very poor precision (0.06), detecting almost all frauds but at the cost of many false alarms.  \n",
        "- **CBU + GMM-balanced model** achieved the highest recall (0.89), but precision dropped drastically (0.0067), making almost all fraud predictions false alarms.  \n",
        "- In fraud detection, **recall is often prioritized** because missing fraud is costlier than investigating a false positive. Thus, the **Full GMM-balanced model** offers the best compromise here.  \n"
      ],
      "metadata": {
        "id": "XOQ-i97VGjPd"
      }
    },
    {
      "cell_type": "markdown",
      "source": [
        "**STEP 3 : Final Recommendation**"
      ],
      "metadata": {
        "id": "2Q7wGAptISbI"
      }
    },
    {
      "cell_type": "markdown",
      "source": [
        "\n",
        "Based on the experiments and analysis, we make the following recommendation:\n",
        "\n",
        "1. **Effectiveness of GMM-based Oversampling:**\n",
        "   - GMM oversampling successfully improved the **recall** of fraud detection models.  \n",
        "   - The **Full GMM-balanced model** detected ~86% of fraudulent transactions, compared to ~65% recall in the baseline.  \n",
        "   - This shows that GMM is effective at generating synthetic samples that expose the classifier to diverse fraud patterns.\n",
        "\n",
        "2. **Limitations Observed:**\n",
        "   - Precision dropped significantly (from 0.83 in the baseline to 0.06 in the Full GMM model, and 0.0067 in the CBU+GMM model).  \n",
        "   - This means the models raised many false alarms, which can increase investigation costs in practice.  \n",
        "   - The trade-off between recall and precision must be carefully managed depending on application context.\n",
        "\n",
        "3. **Theoretical Justification:**\n",
        "   - GMM is superior to simpler methods (like SMOTE) because it models the minority class distribution as a **mixture of Gaussians**, capturing multiple fraud sub-groups.  \n",
        "   - This allows generation of **more realistic and diverse synthetic samples**, which is why recall improved significantly.  \n",
        "   - However, the shift in class distribution may cause the model to over-predict fraud, explaining the low precision.\n",
        "\n",
        "4. **Recommendation:**\n",
        "   - **Use Full GMM-based oversampling** if the goal is to **maximize recall**, i.e., catch as many fraud cases as possible. This is appropriate in high-stakes financial fraud detection, where missing fraud is costlier than extra investigations.  \n",
        "   - **Avoid the CBU+GMM approach** for this dataset, as the extreme precision drop makes it impractical despite its computational efficiency.  \n",
        "   - For a real deployment, a hybrid approach (e.g., threshold tuning, cost-sensitive learning, or combining GMM with ensemble models) should be explored to balance recall and precision.\n",
        "\n",
        "**Final Verdict:**  \n",
        "GMM-based synthetic sampling is **effective in improving fraud detection recall**, and the **Full GMM-balanced model** offers the best compromise. While precision suffers, the method is valuable in domains like fraud detection where **recall is the top priority**.\n"
      ],
      "metadata": {
        "id": "FiiWrnpyIhw1"
      }
    },
    {
      "cell_type": "code",
      "source": [],
      "metadata": {
        "id": "jY1YKLbBICka"
      },
      "execution_count": null,
      "outputs": []
    }
  ]
}